{
 "cells": [
  {
   "cell_type": "markdown",
   "metadata": {},
   "source": [
    "## [Regular Expressions / Regex with re](https://youtu.be/sZyAn2TW7GY)"
   ]
  },
  {
   "cell_type": "code",
   "execution_count": 1,
   "metadata": {},
   "outputs": [],
   "source": [
    "import re"
   ]
  },
  {
   "cell_type": "code",
   "execution_count": 2,
   "metadata": {},
   "outputs": [],
   "source": [
    "exString = '''\n",
    "Sanjay is 22 yrs old, Shari is 12 yrs old, Sri is 10 yrs old.\n",
    "'''"
   ]
  },
  {
   "cell_type": "code",
   "execution_count": 3,
   "metadata": {},
   "outputs": [],
   "source": [
    "ages = re.findall(r'\\d{1,3}', exString)"
   ]
  },
  {
   "cell_type": "code",
   "execution_count": 4,
   "metadata": {},
   "outputs": [
    {
     "data": {
      "text/plain": [
       "['22', '12', '10']"
      ]
     },
     "execution_count": 4,
     "metadata": {},
     "output_type": "execute_result"
    }
   ],
   "source": [
    "ages"
   ]
  },
  {
   "cell_type": "code",
   "execution_count": 5,
   "metadata": {},
   "outputs": [],
   "source": [
    "names= re.findall(r'[A-X][a-z]*', exString)"
   ]
  },
  {
   "cell_type": "code",
   "execution_count": 6,
   "metadata": {},
   "outputs": [
    {
     "data": {
      "text/plain": [
       "['Sanjay', 'Shari', 'Sri']"
      ]
     },
     "execution_count": 6,
     "metadata": {},
     "output_type": "execute_result"
    }
   ],
   "source": [
    "names"
   ]
  },
  {
   "cell_type": "markdown",
   "metadata": {},
   "source": [
    "## [Parsing Websites with re and urllib](https://youtu.be/GEshegZzt3M)"
   ]
  },
  {
   "cell_type": "code",
   "execution_count": 7,
   "metadata": {},
   "outputs": [],
   "source": [
    "import urllib.request\n",
    "import re"
   ]
  },
  {
   "cell_type": "code",
   "execution_count": 8,
   "metadata": {},
   "outputs": [],
   "source": [
    "google_html = urllib.request.urlopen('https://sanjaysanju618.github.io/100-Days-Of-Flutter-Widgets/')"
   ]
  },
  {
   "cell_type": "code",
   "execution_count": 9,
   "metadata": {},
   "outputs": [],
   "source": [
    "respData = google_html.read()"
   ]
  },
  {
   "cell_type": "code",
   "execution_count": 10,
   "metadata": {},
   "outputs": [],
   "source": [
    "paras = re.findall(r'alt=\"(.*?)\" width=\"150\"></a>',str(respData))"
   ]
  },
  {
   "cell_type": "code",
   "execution_count": 11,
   "metadata": {},
   "outputs": [
    {
     "data": {
      "text/plain": [
       "['Introducing Widget of the Week!',\n",
       " 'SafeArea',\n",
       " 'Expanded',\n",
       " 'Wrap',\n",
       " 'AnimatedContainer',\n",
       " 'Opacity',\n",
       " 'FutureBuilder',\n",
       " 'FadeTransition',\n",
       " 'FloatingActionButton',\n",
       " 'PageView',\n",
       " 'Table',\n",
       " 'SliverAppBar',\n",
       " 'SliverGrid &amp; List',\n",
       " 'FadeInImage',\n",
       " 'StreamBuilder',\n",
       " 'InheritedWidget',\n",
       " 'ClipRRect',\n",
       " 'Hero',\n",
       " 'CustomPaint',\n",
       " 'ToolTip',\n",
       " 'FittedBox',\n",
       " 'LayoutBuilder',\n",
       " 'AbsorbPointer',\n",
       " 'Transform',\n",
       " 'BackdropFilter',\n",
       " 'Align',\n",
       " 'Positioned',\n",
       " 'AnimatedBuilder',\n",
       " 'Dismissible',\n",
       " 'SizedBox',\n",
       " 'ValueListenableBuilder',\n",
       " 'Draggable',\n",
       " 'AnimatedList',\n",
       " 'Flexible',\n",
       " 'MediaQuery',\n",
       " 'Spacer',\n",
       " 'AnimatedIcon',\n",
       " 'InheritedModel',\n",
       " 'AspectRatio',\n",
       " 'LimitedBox',\n",
       " 'Placeholder',\n",
       " 'RichText',\n",
       " 'ReorderableListView',\n",
       " 'AnimatedSwitcher',\n",
       " 'AnimatedPositioned',\n",
       " 'AnimatedPadding',\n",
       " 'IndexedStack',\n",
       " 'Semantics',\n",
       " 'ConstrainedBox',\n",
       " 'Stack',\n",
       " 'AnimatedOpacity ',\n",
       " 'FractionallySizedBox ',\n",
       " 'ListView ',\n",
       " 'ListTile',\n",
       " 'Container',\n",
       " 'SelectableText',\n",
       " 'DataTable',\n",
       " 'Slider',\n",
       " 'AlertDialog',\n",
       " 'AnimatedCrossFade',\n",
       " 'DraggableScrollableSheet',\n",
       " 'ColorFiltered',\n",
       " 'ToggleButtons',\n",
       " 'ToggleButtons',\n",
       " 'ToggleButtons',\n",
       " 'Image',\n",
       " 'DefaultTabController &amp; TabBar',\n",
       " 'DefaultTabController &amp; TabBar',\n",
       " 'DefaultTabController &amp; TabBar']"
      ]
     },
     "execution_count": 11,
     "metadata": {},
     "output_type": "execute_result"
    }
   ],
   "source": [
    "paras"
   ]
  },
  {
   "cell_type": "markdown",
   "metadata": {},
   "source": [
    "## [tkinter module making windows](https://youtu.be/Ccct5D2AyNM)"
   ]
  },
  {
   "cell_type": "code",
   "execution_count": 12,
   "metadata": {},
   "outputs": [],
   "source": [
    "from tkinter import *"
   ]
  },
  {
   "cell_type": "code",
   "execution_count": 13,
   "metadata": {},
   "outputs": [],
   "source": [
    "# class Window(Frame):\n",
    "#     def __init__(self, master=None):\n",
    "#         Frame.__init__(self, master)\n",
    "#         self.master = master\n",
    "# root = Tk()\n",
    "# app = Window(root)\n",
    "# root.mainloop()"
   ]
  },
  {
   "cell_type": "markdown",
   "metadata": {},
   "source": [
    "## [Tkinter adding buttons](https://www.youtube.com/watch?v=QPeS0TI0yNo&list=PLQVvvaa0QuDe8XSftW-RAxdo6OmaeL85M&index=41&pbjreload=101)"
   ]
  },
  {
   "cell_type": "code",
   "execution_count": 14,
   "metadata": {},
   "outputs": [],
   "source": [
    "# class Window(Frame):\n",
    "#     def __init__(self, master=None):\n",
    "#         Frame.__init__(self, master)\n",
    "#         self.master = master\n",
    "        \n",
    "#         self.init_window()\n",
    "#     def init_window(self):\n",
    "#         self.master.title(\"Happy\")\n",
    "#         self.pack(fill=BOTH, expand=1)\n",
    "#         clickMeButton = Button(self, text=\"Click Me!\")\n",
    "#         clickMeButton.place(x=0, y=0)\n",
    "        \n",
    "# root = Tk()\n",
    "\n",
    "# root.geometry('500x500')\n",
    "# app = Window(root)\n",
    "# root.mainloop()"
   ]
  },
  {
   "cell_type": "markdown",
   "metadata": {},
   "source": [
    "## [Tkinter Events](https://www.youtube.com/watch?v=4FrQaowzIGo&list=PLQVvvaa0QuDe8XSftW-RAxdo6OmaeL85M&index=42&pbjreload=101)"
   ]
  },
  {
   "cell_type": "code",
   "execution_count": 15,
   "metadata": {},
   "outputs": [],
   "source": [
    "class Window(Frame):\n",
    "    def __init__(self, master=None):\n",
    "        Frame.__init__(self, master)\n",
    "        self.master = master\n",
    "        \n",
    "        self.init_window()\n",
    "    def init_window(self):\n",
    "        self.master.title(\"Happy\")\n",
    "        self.pack(fill=BOTH, expand=1)\n",
    "        clickMeButton = Button(self, text=\"Click Me!\", command=self.exit_window)\n",
    "        clickMeButton.place(x=0, y=0)\n",
    "        \n",
    "    def exit_window(self):\n",
    "#          exit()\n",
    "        \n",
    "root = Tk()\n",
    "\n",
    "root.geometry('500x500')\n",
    "app = Window(root)\n",
    "root.mainloop()"
   ]
  },
  {
   "cell_type": "code",
   "execution_count": null,
   "metadata": {},
   "outputs": [],
   "source": []
  }
 ],
 "metadata": {
  "kernelspec": {
   "display_name": "Python 3",
   "language": "python",
   "name": "python3"
  },
  "language_info": {
   "codemirror_mode": {
    "name": "ipython",
    "version": 3
   },
   "file_extension": ".py",
   "mimetype": "text/x-python",
   "name": "python",
   "nbconvert_exporter": "python",
   "pygments_lexer": "ipython3",
   "version": "3.6.8"
  }
 },
 "nbformat": 4,
 "nbformat_minor": 2
}
