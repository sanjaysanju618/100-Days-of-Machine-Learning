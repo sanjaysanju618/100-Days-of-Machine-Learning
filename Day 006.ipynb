{
 "cells": [
  {
   "cell_type": "markdown",
   "metadata": {},
   "source": [
    "## [Tkinter menu bar](https://youtu.be/Ihlpgw_HYic)"
   ]
  },
  {
   "cell_type": "code",
   "execution_count": 1,
   "metadata": {},
   "outputs": [],
   "source": [
    "from tkinter import *"
   ]
  },
  {
   "cell_type": "code",
   "execution_count": 2,
   "metadata": {},
   "outputs": [],
   "source": [
    "class Window(Frame):\n",
    "    def __init__(self, master=None):\n",
    "        Frame.__init__(self, master)\n",
    "        self.master = master\n",
    "        self.init_window()\n",
    "        \n",
    "    def init_window(self):\n",
    "        self.master.title(\"Happy\")\n",
    "        self.pack(fill=BOTH, expand=1)\n",
    "        \n",
    "        menu = Menu(self.master)\n",
    "        self.master.config(menu=menu)\n",
    "        \n",
    "        file = Menu(menu)\n",
    "        file.add_command(label=\"This is file\")\n",
    "        menu.add_cascade(label=\"File\", menu=file)\n",
    "        \n",
    "        edit = Menu(menu)\n",
    "        edit.add_command(label=\"This is edit\")\n",
    "        menu.add_cascade(label=\"Edit\", menu=edit)\n",
    "        \n",
    "        \n",
    "root = Tk()\n",
    "\n",
    "root.geometry('500x500')\n",
    "app = Window(root)\n",
    "root.mainloop()"
   ]
  },
  {
   "cell_type": "markdown",
   "metadata": {},
   "source": [
    "## [Tkinter adding images and text](https://youtu.be/a1Y5e-aGPQ4)"
   ]
  },
  {
   "cell_type": "code",
   "execution_count": 3,
   "metadata": {},
   "outputs": [],
   "source": [
    "from PIL import Image, ImageTk"
   ]
  },
  {
   "cell_type": "code",
   "execution_count": 4,
   "metadata": {},
   "outputs": [],
   "source": [
    "class Window(Frame):\n",
    "    def __init__(self, master=None):\n",
    "        Frame.__init__(self, master)\n",
    "        self.master = master\n",
    "        self.init_window()\n",
    "        \n",
    "    def init_window(self):\n",
    "        self.master.title(\"Happy\")\n",
    "        self.pack(fill=BOTH, expand=1)\n",
    "        \n",
    "        menu = Menu(self.master)\n",
    "        self.master.config(menu=menu)\n",
    "        \n",
    "        file = Menu(menu)\n",
    "        file.add_command(label=\"This is file\")\n",
    "        menu.add_cascade(label=\"File\", menu=file)\n",
    "        \n",
    "        edit = Menu(menu)\n",
    "        edit.add_command(label=\"This is edit\")\n",
    "        edit.add_command(label=\"Show Image\", command=self.showImage)\n",
    "        edit.add_command(label=\"Show Text\", command=self.showText()) # runs automatic when we add ()....\n",
    "        menu.add_cascade(label=\"Edit\", menu=edit)\n",
    "        \n",
    "    def showImage(self):\n",
    "        load = Image.open('FB_DP.jpg')\n",
    "        render = ImageTk.PhotoImage(load)\n",
    "        img = Label(self, image=render)\n",
    "        img.image = render\n",
    "        img.pack()\n",
    "\n",
    "    def showText(self):\n",
    "        text = Label(self, text='This is Text')\n",
    "        text.pack()\n",
    "        \n",
    "root = Tk()\n",
    "\n",
    "root.geometry('500x500')\n",
    "app = Window(root)\n",
    "root.mainloop()"
   ]
  },
  {
   "cell_type": "markdown",
   "metadata": {},
   "source": [
    "## [Threading module](https://youtu.be/NwH0HvMI4EA)"
   ]
  },
  {
   "cell_type": "code",
   "execution_count": 5,
   "metadata": {},
   "outputs": [],
   "source": [
    "# importing....\n",
    "import threading\n",
    "from queue import Queue\n",
    "import time"
   ]
  },
  {
   "cell_type": "code",
   "execution_count": 6,
   "metadata": {},
   "outputs": [],
   "source": [
    "# get lock....\n",
    "print_lock = threading.Lock()\n",
    "# and queue....\n",
    "q = Queue()"
   ]
  },
  {
   "cell_type": "code",
   "execution_count": 7,
   "metadata": {},
   "outputs": [],
   "source": [
    "# create job....\n",
    "def expampleJob(worker):\n",
    "    time.sleep(0.5)\n",
    "    with print_lock:\n",
    "        print(threading.current_thread().name, worker)"
   ]
  },
  {
   "cell_type": "code",
   "execution_count": 8,
   "metadata": {},
   "outputs": [],
   "source": [
    "# create thred....\n",
    "def threader():\n",
    "    while True:\n",
    "        worker = q.get()\n",
    "        expampleJob(worker)\n",
    "        q.task_done()"
   ]
  },
  {
   "cell_type": "code",
   "execution_count": 9,
   "metadata": {},
   "outputs": [
    {
     "name": "stdout",
     "output_type": "stream",
     "text": [
      "Thread-7 0\n",
      "Thread-11 5\n",
      "Thread-8 1\n",
      "Thread-15 9\n",
      "Thread-14 8\n",
      "Thread-13 7\n",
      "Thread-6 2\n",
      "Thread-12 6\n",
      "Thread-9 3\n",
      "Thread-10 4\n",
      "Thread-7 10\n",
      "Thread-11 11\n",
      "Thread-8 12\n",
      "Thread-15 13\n",
      "Thread-14 14\n",
      "Thread-13 15\n",
      "Thread-6 16\n",
      "Thread-12 17\n",
      "Thread-9 18\n",
      "Thread-10 19\n",
      "Time Taken : 1.0285532474517822\n"
     ]
    }
   ],
   "source": [
    "for x in range(10):\n",
    "    t = threading.Thread(target=threader)\n",
    "    t.daemon = True\n",
    "    t.start()\n",
    "start = time.time()\n",
    "\n",
    "for worker in range(20):\n",
    "    q.put(worker)\n",
    "q.join()\n",
    "\n",
    "print('Time Taken :', time.time()-start)"
   ]
  },
  {
   "cell_type": "markdown",
   "metadata": {},
   "source": [
    "## [cx freeze python to exe](https://youtu.be/GSoOwSqTSrs)"
   ]
  }
 ],
 "metadata": {
  "kernelspec": {
   "display_name": "Python 3",
   "language": "python",
   "name": "python3"
  },
  "language_info": {
   "codemirror_mode": {
    "name": "ipython",
    "version": 3
   },
   "file_extension": ".py",
   "mimetype": "text/x-python",
   "name": "python",
   "nbconvert_exporter": "python",
   "pygments_lexer": "ipython3",
   "version": "3.6.8"
  }
 },
 "nbformat": 4,
 "nbformat_minor": 2
}
